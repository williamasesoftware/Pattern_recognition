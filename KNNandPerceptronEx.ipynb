{
 "cells": [
  {
   "cell_type": "code",
   "execution_count": null,
   "id": "eafc6f09",
   "metadata": {},
   "outputs": [],
   "source": [
    "import numpy as np"
   ]
  },
  {
   "cell_type": "code",
   "execution_count": null,
   "id": "3ebc39fc",
   "metadata": {},
   "outputs": [],
   "source": [
    "from sklearn.datasets import load_digits\n",
    "from sklearn.model_selection import train_test_split\n",
    "digits = load_digits()"
   ]
  },
  {
   "cell_type": "code",
   "execution_count": null,
   "id": "29709b5e",
   "metadata": {},
   "outputs": [],
   "source": [
    "with open('mnist-y.data') as file:\n",
    "    chars = [line[0] for line in file]"
   ]
  },
  {
   "cell_type": "code",
   "execution_count": null,
   "id": "c0eef959",
   "metadata": {},
   "outputs": [],
   "source": [
    "vectors = []\n",
    "with open('mnist-x.data') as file:\n",
    "    for line in file:\n",
    "        vectors.append([1.0 if float(v) == 1 else -1.0 for v in line.strip().split(',')])"
   ]
  },
  {
   "cell_type": "code",
   "execution_count": null,
   "id": "ceacbd18",
   "metadata": {},
   "outputs": [],
   "source": [
    "import matplotlib.pyplot as plt\n",
    "plt.gray()\n",
    "plt.matshow(digits.images[1001])\n",
    "plt.show()"
   ]
  },
  {
   "cell_type": "markdown",
   "id": "89608ad5",
   "metadata": {},
   "source": [
    "# KNN"
   ]
  },
  {
   "cell_type": "code",
   "execution_count": null,
   "id": "cc8a3f45",
   "metadata": {},
   "outputs": [],
   "source": [
    "digits['data'] = np.where(digits['data']>0,1,-1)"
   ]
  },
  {
   "cell_type": "code",
   "execution_count": null,
   "id": "89fa14cf",
   "metadata": {},
   "outputs": [],
   "source": [
    "vectors = np.array(vectors)"
   ]
  },
  {
   "cell_type": "code",
   "execution_count": null,
   "id": "08aa0774",
   "metadata": {},
   "outputs": [],
   "source": [
    "X_train, X_test, y_train, y_test = train_test_split(vectors,chars,test_size=0.20, random_state=42)"
   ]
  },
  {
   "cell_type": "code",
   "execution_count": null,
   "id": "16980ef9",
   "metadata": {},
   "outputs": [],
   "source": [
    "X_train.shape"
   ]
  },
  {
   "cell_type": "code",
   "execution_count": null,
   "id": "d2f91b76",
   "metadata": {},
   "outputs": [],
   "source": [
    "X_test.shape"
   ]
  },
  {
   "cell_type": "code",
   "execution_count": null,
   "id": "3599f174",
   "metadata": {},
   "outputs": [],
   "source": [
    "def predict(test_point):\n",
    "    train_data = X_train\n",
    "    # Implement a KNN algorithm\n",
    "    return closest_class"
   ]
  },
  {
   "cell_type": "code",
   "execution_count": null,
   "id": "6f3ea75b",
   "metadata": {},
   "outputs": [],
   "source": [
    "def test():\n",
    "    success = 0\n",
    "    examples = X_test\n",
    "    for e in range(len(examples)):\n",
    "        z = predict(examples[e])\n",
    "        if z == y_test[e]:\n",
    "            success += 1\n",
    "    return float(success) / len(examples)"
   ]
  },
  {
   "cell_type": "markdown",
   "id": "49edf076",
   "metadata": {},
   "source": [
    "## Prostate"
   ]
  },
  {
   "cell_type": "code",
   "execution_count": null,
   "id": "d93ed9e6",
   "metadata": {},
   "outputs": [],
   "source": [
    "import pandas as pd"
   ]
  },
  {
   "cell_type": "code",
   "execution_count": null,
   "id": "d993ea3a",
   "metadata": {},
   "outputs": [],
   "source": [
    "prostate_data = pd.read_csv('prostate.csv')"
   ]
  },
  {
   "cell_type": "code",
   "execution_count": null,
   "id": "dcc7b2cc",
   "metadata": {},
   "outputs": [],
   "source": [
    "#Divide the data set, and apply the K-NN. Test the accuracy, the training error, and the test error."
   ]
  },
  {
   "cell_type": "markdown",
   "id": "bbb4e6ce",
   "metadata": {},
   "source": [
    "# Perceptron"
   ]
  },
  {
   "cell_type": "code",
   "execution_count": null,
   "id": "5276d8be",
   "metadata": {},
   "outputs": [],
   "source": [
    "data = [{'vector': v, 'char': c} for (v, c) in zip(vectors, chars)]"
   ]
  },
  {
   "cell_type": "code",
   "execution_count": null,
   "id": "a535dd95",
   "metadata": {},
   "outputs": [],
   "source": [
    "def train(target_char, opposite_char, steps):\n",
    "    train_data = data[:5000]\n",
    "    train_data = [e for e in train_data if e['char'] in (target_char, opposite_char)]\n",
    "    w = np.zeros(784)\n",
    "    i = 0\n",
    "    weights = w\n",
    "    # Implement perceptron, remember:\n",
    "    if z >= 0 and y == opposite_char:\n",
    "        #TODO\n",
    "    elif z < 0 and y == target_char:\n",
    "        #TODO\n",
    "    return w\n",
    "\n",
    "def error(target_char, opposite_char,data,w):\n",
    "    success = 0\n",
    "    for e in data:\n",
    "        z = np.dot(e['vector'], w)\n",
    "        if (z >= 0 and e['char'] == target_char) or (z < 0 and e['char'] == opposite_char):\n",
    "            success += 1\n",
    "    return float(success) / len(data)\n",
    "\n",
    "def test(target_char, opposite_char,weights):\n",
    "    success = 0\n",
    "    examples = data[5000:]\n",
    "\n",
    "    examples = [e for e in examples if e['char'] in (target_char, opposite_char)]\n",
    "\n",
    "    for e in examples:\n",
    "        z = np.dot(e['vector'], weights)\n",
    "        if (z >= 0 and e['char'] == target_char) or (z < 0 and e['char'] == opposite_char):\n",
    "            success += 1\n",
    "\n",
    "    return float(success) / len(examples)"
   ]
  },
  {
   "cell_type": "code",
   "execution_count": null,
   "id": "065433ef",
   "metadata": {},
   "outputs": [],
   "source": [
    "weights = train('1','2',100)"
   ]
  },
  {
   "cell_type": "code",
   "execution_count": null,
   "id": "a61e8dfa",
   "metadata": {},
   "outputs": [],
   "source": [
    "test('1','2',weights)"
   ]
  },
  {
   "cell_type": "code",
   "execution_count": null,
   "id": "13b67877",
   "metadata": {},
   "outputs": [],
   "source": []
  }
 ],
 "metadata": {
  "kernelspec": {
   "display_name": "Python 3 (ipykernel)",
   "language": "python",
   "name": "python3"
  },
  "language_info": {
   "codemirror_mode": {
    "name": "ipython",
    "version": 3
   },
   "file_extension": ".py",
   "mimetype": "text/x-python",
   "name": "python",
   "nbconvert_exporter": "python",
   "pygments_lexer": "ipython3",
   "version": "3.9.7"
  }
 },
 "nbformat": 4,
 "nbformat_minor": 5
}
